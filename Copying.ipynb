{
    "cells": [
        {
            "cell_type": "markdown",
            "source": [
                "# Revisiting... how to make copies in Python!\n",
                "**or: The Aquarium Incident**\n",
                "\n",
                "## Learning goals for this Notebook\n",
                "At the end of this notebook you should:\n",
                "- know the three different types of copying in Python\n",
                "- have a better understanding when / why to use them \n",
                "- know that buying just one aquarium for your kids is a bad idea.\n"
            ],
            "metadata": {}
        },
        {
            "cell_type": "markdown",
            "source": [
                "## How to use this\n",
                "This notebook is supposed to be a *follow-along*. Feel free to change stuff and experiment as much as you want, though.\n",
                "Ideally, you should look at each cell and try to predict the result. Afterwards you can run it and see if you were right."
            ],
            "metadata": {}
        },
        {
            "cell_type": "markdown",
            "source": [
                "## Recap: immutable and mutable objects in Python\n",
                "\n",
                "All objects in Python are either immutable or mutable.\n",
                "- Immutable objects CANNOT BE CHANGED after creating it! (when you try to, Python creates a new object insead)\n",
                "- Mutable objects can be changed after creation.\n",
                "\n",
                "| Immutable | Mutable\n",
                "|---|---|\n",
                "|numbers | lists|\n",
                "|strings | dicts|\n",
                "|tuple | set|\n"
            ],
            "metadata": {}
        },
        {
            "cell_type": "markdown",
            "source": [
                "## Importing stuff\n",
                " We barely have to import anything here, most of it is just Python."
            ],
            "metadata": {}
        },
        {
            "cell_type": "code",
            "execution_count": null,
            "source": [
                "import copy"
            ],
            "outputs": [],
            "metadata": {}
        },
        {
            "cell_type": "markdown",
            "source": [
                "## First way: Copy an Object with `=` operator\n",
                "\n",
                "Ok, here comes the story...\n",
                "Once upon a time, my Grandma asked my sister and me what our favourite animals are.\n",
                "My sister said: \"My favourite animal is a rainbow fish\".\n",
                "And as I was the biggest fan of my sister, I said: \"Mine too!\"\n",
                "Apparently later, my sister changed her mind. And her favourite animal was then a shark.\n"
            ],
            "metadata": {}
        },
        {
            "cell_type": "code",
            "execution_count": null,
            "source": [
                "my_sis_fav_animal = \"Rainbow fish\"\n",
                "my_fav_animal = my_sis_fav_animal\n",
                "my_sis_fav_animal = \"Shark\""
            ],
            "outputs": [],
            "metadata": {}
        },
        {
            "cell_type": "code",
            "execution_count": null,
            "source": [
                "print(my_sis_fav_animal)\n",
                "print(my_fav_animal)"
            ],
            "outputs": [],
            "metadata": {}
        },
        {
            "cell_type": "markdown",
            "source": [
                "### What happened in Python?\n",
                "\n",
                "Remember that strings are immutable objects, they cannot be changed after creating!\n",
                "We created my_sis_fav_animal, and then mine (my_fav_animal).\n",
                "When we \"changed\" my_sis_fav_animal, the object \"my_sis_fav_animal\" was NOT changed, but rebinded to a new object (\"Shark\"). "
            ],
            "metadata": {}
        },
        {
            "cell_type": "markdown",
            "source": [
                "\n",
                "**Ok back to the story.**\n",
                "My grandma asked us about our favourite animal because she wanted to give us a present. She bought us an aquarium. It was ours, but my sister and me both refered to it as \"mine\".\n",
                "\n",
                "\n",
                "<img src=\"images/Python-copying-chapter1-1.png\" alt=\"copying with '=' operator example\" style=\"width:450px;\"/>\n",
                "\n"
            ],
            "metadata": {}
        },
        {
            "cell_type": "code",
            "execution_count": null,
            "source": [
                "aquarium = ['blackbox', 'big fish', 'small fish', 'second big fish']\n",
                "my_aquarium = my_sis_aquarium = aquarium"
            ],
            "outputs": [],
            "metadata": {}
        },
        {
            "cell_type": "markdown",
            "source": [
                "My grandma told us that she will buy us both our favourite animal.\n",
                "As we only had one aquarium, when my sister got a fish as present, my aquarium had a new fish as well. And vice versa.\n",
                "\n",
                "\n",
                "<img src=\"images/Python-copying-chapter1-2.png\" alt=\"copying with '=' operator example\" style=\"width:450px;\"/>\n"
            ],
            "metadata": {}
        },
        {
            "cell_type": "code",
            "execution_count": null,
            "source": [
                "my_sis_aquarium.append('Shark')\n",
                "my_aquarium.append(\"Rainbow fish\")"
            ],
            "outputs": [],
            "metadata": {}
        },
        {
            "cell_type": "markdown",
            "source": [
                "Ahh! Surely you see where this will lead us... But first let's see how my sisters aquarium and mine look like after the presents:"
            ],
            "metadata": {}
        },
        {
            "cell_type": "code",
            "execution_count": null,
            "source": [
                "print(my_sis_aquarium)\n",
                "print(my_aquarium)"
            ],
            "outputs": [],
            "metadata": {}
        },
        {
            "cell_type": "markdown",
            "source": [
                "\n",
                "<img src=\"images/Python-copying-chapter1-3.png\" alt=\"'=' operator example\" style=\"width:450px;\"/>\n",
                "\n",
                "Until one day... the shark ate the cute little rainbow fish :( \n",
                "And of course this was my sisters fault! Obviously!"
            ],
            "metadata": {}
        },
        {
            "cell_type": "code",
            "execution_count": null,
            "source": [
                "my_sis_aquarium.pop()"
            ],
            "outputs": [],
            "metadata": {}
        },
        {
            "cell_type": "markdown",
            "source": [
                "Oh wow... You see, that's when the love for my sister dropped a bit...\n",
                "We can understand why this happend in our aquarium, but \n",
                "## What happened in Python?\n",
                "\n",
                "The `=` operator creates a copy of an object. But it doesn't create a new object, it only creates a new variable that shares the reference to the original object. Like as both me and my sister refered to the aquarium as \"Mine\", it was just always the exact same one!\n",
                "\n",
                "Let's check it out in python. If we just created two variables sharing the same refernce of the original objects, the `id` of both should be the same."
            ],
            "metadata": {}
        },
        {
            "cell_type": "code",
            "execution_count": null,
            "source": [
                "print(id(my_sis_aquarium))\n",
                "print(id(my_aquarium))"
            ],
            "outputs": [],
            "metadata": {}
        },
        {
            "cell_type": "code",
            "execution_count": null,
            "source": [
                "id(my_aquarium) == id(my_sis_aquarium)"
            ],
            "outputs": [],
            "metadata": {}
        },
        {
            "cell_type": "markdown",
            "source": [
                "### Conclusion\n",
                "You can copy **immutable** objects with the `=` operator. But **mutable** objects will **NOT** be copied like this!\n",
                "If you make any changes in either of those lists, the changes are done in both!\n",
                "\n",
                "How to solve this situation?\n",
                "\n",
                "## Second Way: Shallow copy\n",
                "\n",
                "My grandma felt bad, as her gift caused this heartache. So she thought she could help out here...\n",
                "She just got both of us the exact same aquarium. But now we both had our own aquarium in our own room.\n",
                "\n",
                "<img src=\"images/Python-copying-chapter2-1.png\" alt=\"shallow copy example\" style=\"width:450px;\"/>"
            ],
            "metadata": {}
        },
        {
            "cell_type": "code",
            "execution_count": null,
            "source": [
                "blackbox = ['20 % O₂', 'Off']\n",
                "my_sis_aquarium_2 = [blackbox, 'big fish', 'small fish', 'second big fish']\n",
                "my_aquarium_2 = copy.copy(my_sis_aquarium_2)"
            ],
            "outputs": [],
            "metadata": {}
        },
        {
            "cell_type": "markdown",
            "source": [
                "So now, things that happen in my aquarium aren't happening in my sisters aquarium and vice versa.\n",
                "\n",
                "<img src=\"images/Python-copying-chapter2-2.png\" alt=\"shallow copy example\" style=\"width:450px;\"/>"
            ],
            "metadata": {}
        },
        {
            "cell_type": "code",
            "execution_count": null,
            "source": [
                "my_sis_aquarium_2.append('Shark')\n",
                "my_aquarium_2.append('Rainbow fish')"
            ],
            "outputs": [],
            "metadata": {}
        },
        {
            "cell_type": "markdown",
            "source": [
                "You trust me and my story right?"
            ],
            "metadata": {}
        },
        {
            "cell_type": "code",
            "execution_count": null,
            "source": [
                "print(my_sis_aquarium_2)\n",
                "print(my_aquarium_2)"
            ],
            "outputs": [],
            "metadata": {}
        },
        {
            "cell_type": "markdown",
            "source": [
                "Everything was fine, until one day a fish died in my sisters aquarium.\n",
                "\n",
                "<img src=\"images/Python-copying-chapter2-3.png\" alt=\"shallow copy example\" style=\"width:450px;\"/>\n",
                "\n"
            ],
            "metadata": {}
        },
        {
            "cell_type": "code",
            "execution_count": null,
            "source": [
                "my_sis_aquarium_2.pop(-2)"
            ],
            "outputs": [],
            "metadata": {}
        },
        {
            "cell_type": "markdown",
            "source": [
                "That's when this little black box plays a role in our story. \n",
                "It's a magic box.\n",
                "\n",
                "It was installed in both our aquariums and had **one** remote control to change O₂ concentration in both aquariums at once. \n",
                "How comfortable!\n",
                "\n",
                "Maybe the fish died because of too less O₂ in the water. So let's increase it. Also to prevent this happening in my aquarium!\n",
                "\n",
                "<img src=\"images/Python-copying-chapter2-4.png\" alt=\"shallow copy example\" style=\"width:450px;\"/>\n",
                "\n",
                "\n"
            ],
            "metadata": {}
        },
        {
            "cell_type": "code",
            "execution_count": null,
            "source": [
                "blackbox[0] = \"50 % O₂\""
            ],
            "outputs": [],
            "metadata": {}
        },
        {
            "cell_type": "code",
            "execution_count": null,
            "source": [
                "print(my_sis_aquarium_2)\n",
                "print(my_aquarium_2)"
            ],
            "outputs": [],
            "metadata": {}
        },
        {
            "cell_type": "markdown",
            "source": [
                "You see: O₂ concentration was changed for both aqauriums!\n",
                "\n",
                "But what about that second part of the remote control?\n",
                "It's the party switch!!!\n",
                "Don't be afraid to press it :D\n",
                "\n"
            ],
            "metadata": {}
        },
        {
            "cell_type": "code",
            "execution_count": null,
            "source": [
                "my_aquarium_2[0][1] = \"On\""
            ],
            "outputs": [],
            "metadata": {}
        },
        {
            "cell_type": "markdown",
            "source": [
                "Now it's party time 🎉 🎉 🎉.\n",
                "Everywhere!\n",
                "\n",
                "<img src=\"images/Python-copying-chapter2-5.png\" alt=\"shallow copy example\" style=\"width:450px;\"/>\n",
                "\n",
                "Really?"
            ],
            "metadata": {}
        },
        {
            "cell_type": "code",
            "execution_count": null,
            "source": [
                "print(my_sis_aquarium_2)\n",
                "print(my_aquarium_2)\n",
                "print(blackbox)"
            ],
            "outputs": [],
            "metadata": {}
        },
        {
            "cell_type": "markdown",
            "source": [
                "Yess!!!\n",
                "\n",
                "This is cool! \n",
                "Until... it's not anymore.\n",
                "Maybe my sister and me don't want to have a party always at the same time...\n",
                "\n",
                "It's time for revenge!\n",
                "\n",
                "<img src=\"images/Python-copying-chapter2-6.png\" alt=\"shallow copy example\" style=\"width:450px;\"/>\n",
                "\n",
                "That's definitly what's happening if someone else can control this switch for both rooms at once.\n"
            ],
            "metadata": {}
        },
        {
            "cell_type": "markdown",
            "source": [
                "\n",
                "Hopefully the aquarium example was clear. Back to python. \n",
                "## What happened in Python?\n",
                "\n",
                "The shallow copy creates a new object which stores the references of the original elements! So it stores the references to each item in the list. If one item is a list (when we have a list in a list, we call it \"nested list\"), also the reference to this list is copied! Copying only the reference of a list was exactly what we have seen in chapter 1 (`=` operator); this is not a copy of the list! If items in this nested list are changed, those will be changed in both the original and the shallow copy. \n",
                "\n",
                "The two variables `my_aquarium_2` and `my_sis_aquarium_2` don't have the same id. But the id of the `blackbox` will be both times the same.\n",
                "\n",
                "So if anything is changed in the list \"blackbox\" it will be changed in both aqariums as well.\n"
            ],
            "metadata": {}
        },
        {
            "cell_type": "code",
            "execution_count": null,
            "source": [
                "print(id(my_sis_aquarium_2))\n",
                "print(id(my_aquarium_2))"
            ],
            "outputs": [],
            "metadata": {}
        },
        {
            "cell_type": "code",
            "execution_count": null,
            "source": [
                "# that's the shallow copy!\n",
                "#checking if id of objects are identical\n",
                "my_aquarium_2 is my_sis_aquarium_2"
            ],
            "outputs": [],
            "metadata": {}
        },
        {
            "cell_type": "code",
            "execution_count": null,
            "source": [
                "# no copies are created of nested objects!\n",
                "my_aquarium_2[0] is my_sis_aquarium_2[0]"
            ],
            "outputs": [],
            "metadata": {}
        },
        {
            "cell_type": "code",
            "execution_count": null,
            "source": [
                "my_aquarium_2[0] is blackbox"
            ],
            "outputs": [],
            "metadata": {}
        },
        {
            "cell_type": "markdown",
            "source": [
                "**Remember:** If you create a shallow copy, you will create a copy of the object. But it won't create a copy of all nested mutable objects recursively! It will just copy the reference.\n",
                "\n",
                "How to solve this situation?"
            ],
            "metadata": {}
        },
        {
            "cell_type": "markdown",
            "source": [
                "## Third Way: Deep Copy\n",
                "\n",
                "Here we are... revenge is over. So we should be able to get to a happy ending.\n",
                "And here it comes. After my sister destroyed her and my aquarium in her rage, we got new ones. This time even with our own remote control!\n",
                "Nothing that's changed for her aquarium should affect mine and vice versa.\n",
                "\n",
                "<img src=\"images/Python-copying-chapter3-1.png\" alt=\"deep copy example\" style=\"width:450px;\"/>\n"
            ],
            "metadata": {}
        },
        {
            "cell_type": "code",
            "execution_count": null,
            "source": [
                "blackbox_2 = ['20 %  O₂', 'Off']\n",
                "aquarium = [blackbox_2, 'big fish', 'small fish', 'second big fish']\n",
                "my_sis_aquarium_3 = copy.deepcopy(aquarium)\n",
                "my_aquarium_3 = copy.deepcopy(aquarium)"
            ],
            "outputs": [],
            "metadata": {}
        },
        {
            "cell_type": "code",
            "execution_count": null,
            "source": [
                "my_aquarium_3.append('Rainbow fish')"
            ],
            "outputs": [],
            "metadata": {}
        },
        {
            "cell_type": "code",
            "execution_count": null,
            "source": [
                "print(my_aquarium_3)\n",
                "print(my_sis_aquarium_3)"
            ],
            "outputs": [],
            "metadata": {}
        },
        {
            "cell_type": "code",
            "execution_count": null,
            "source": [
                "blackbox_2[1] = \"On\""
            ],
            "outputs": [],
            "metadata": {}
        },
        {
            "cell_type": "code",
            "execution_count": null,
            "source": [
                "print(my_aquarium_3)\n",
                "print(my_sis_aquarium_3)"
            ],
            "outputs": [],
            "metadata": {}
        },
        {
            "cell_type": "code",
            "execution_count": null,
            "source": [
                "my_sis_aquarium_3[0][1] =\"Party\"\n",
                "print(my_aquarium_3)\n",
                "print(my_sis_aquarium_3)"
            ],
            "outputs": [],
            "metadata": {}
        },
        {
            "cell_type": "code",
            "execution_count": null,
            "source": [
                "# copies are created\n",
                "my_aquarium_3 is my_sis_aquarium_3"
            ],
            "outputs": [],
            "metadata": {}
        },
        {
            "cell_type": "code",
            "execution_count": null,
            "source": [
                "# copies are created of nested objects!\n",
                "my_aquarium_3[0] is my_sis_aquarium_3[0]"
            ],
            "outputs": [],
            "metadata": {}
        },
        {
            "cell_type": "markdown",
            "source": [
                "## What happened in Python?\n",
                "\n",
                "The Deep copy method constructs new object for every nested compound object.\n",
                "Deep copies do not share any data with each other (also not in nested lists)!"
            ],
            "metadata": {}
        },
        {
            "cell_type": "markdown",
            "source": [
                "## The End... What's the moral of the story?\n",
                "\n",
                "- you can copy immutable object with the `=` operator!\n",
                "- you CANNOT copy mutable object with the `=` operator!\n",
                "- Shallow copy: copies all elements except contents within nested mutable objects (that contents becomes shared between original and all copies)\n",
                "- Deep copy: copies entire object (without any exceptions)\n",
                "\n",
                "There are still open questions..."
            ],
            "metadata": {}
        },
        {
            "cell_type": "markdown",
            "source": [
                "### Why not always use deepcopy?\n",
                "\n",
                "In our aquarium example it was pretty neat that one remote control changed the settings for O₂ concentration in both aquariums. Also, buying two aquariums and remote controls will be the most expensive way.\n",
                "Translated to Python. Why not use deepcopy?\n",
                "\n",
                "- if you have information that should be present in several copies, but if the information is changed you don't want to change it in each copy (prone to errors if not one true source). \n",
                "<br>\n",
                "<br>\n",
                "- shallow copies are much faster. If you don't need deepcopy, don't use it! \n",
                "\n",
                "### What's the fastest?\n",
                "\n",
                "Let's check it out..."
            ],
            "metadata": {}
        },
        {
            "cell_type": "code",
            "execution_count": null,
            "source": [
                "import timeit\n",
                "import numpy as np"
            ],
            "outputs": [],
            "metadata": {}
        },
        {
            "cell_type": "code",
            "execution_count": null,
            "source": [
                "nested_list = list(range(11))\n",
                "test_list = [nested_list]*10\n",
                "# try out a not nested list:\n",
                "# test_list = nested_list*10\n",
                "print(test_list)"
            ],
            "outputs": [],
            "metadata": {}
        },
        {
            "cell_type": "code",
            "execution_count": null,
            "source": [
                "repeat = 10000\n",
                "\n",
                "def equal_operator():\n",
                "    list2 = test_list\n",
                "    return list2\n",
                "\n",
                "def shallow_by_slicing():\n",
                "    return test_list[:]\n",
                "\n",
                "def shallow_by_copy():\n",
                "    return copy.copy(test_list)\n",
                "\n",
                "def shallow_list_method():\n",
                "    return list(test_list)\n",
                "\n",
                "def deep_copy():\n",
                "    return copy.deepcopy(test_list)\n",
                "\n",
                "\n",
                "print(f\"Duration of copying with = operator:            {'{0:.5f}'.format(round(np.mean(timeit.repeat(equal_operator,number=repeat)),8))}s\")\n",
                "print(f\"Duration of shallow copying by slicing:         {'{0:.5f}'.format(round(np.mean(timeit.repeat(shallow_by_slicing,number=repeat)),8))}s\")\n",
                "print(f\"Duration of shallow copying with 'list' method: {'{0:.5f}'.format(round(np.mean(timeit.repeat(shallow_list_method,number=repeat)),8))}s\")\n",
                "print(f\"Duration of shallow copying with 'copy':        {'{0:.5f}'.format(round(np.mean(timeit.repeat(shallow_by_copy,number=repeat)),8))}s\")\n",
                "print(f\"Duration of deep copying with 'deepcopy':       {'{0:.5f}'.format(round(np.mean(timeit.repeat(deep_copy,number=repeat)),8))}s\")\n"
            ],
            "outputs": [],
            "metadata": {}
        }
    ],
    "metadata": {
        "orig_nbformat": 4,
        "language_info": {
            "name": "python",
            "version": "3.8.5",
            "mimetype": "text/x-python",
            "codemirror_mode": {
                "name": "ipython",
                "version": 3
            },
            "pygments_lexer": "ipython3",
            "nbconvert_exporter": "python",
            "file_extension": ".py"
        },
        "kernelspec": {
            "name": "python3",
            "display_name": "Python 3.8.5 64-bit ('.venv': venv)"
        },
        "interpreter": {
            "hash": "20670382bdd763826afecbaf496254aea9344a31cf0ebf49b772d3ebe854ad49"
        }
    },
    "nbformat": 4,
    "nbformat_minor": 2
}