{
    "cells": [
        {
            "cell_type": "markdown",
            "source": [
                "# Copying Exercises\n",
                "\n",
                "The first notebook about copying in Python was just a \"follow-along\". You learnt the three ways of copying in Python:\n",
                "- how to copy immutalbe objects \n",
                "- how to create shallow copies of mutable objects\n",
                "- how to create deep copies of mutable objects.\n",
                "\n",
                "All of this was covered mainly with the python objects \"lists\". \n",
                "To get the intuition, let's try these concepts also on some other objects.\n",
                "\n",
                "Our example will still be an aquarium. But this time in some other forms...\n"
            ],
            "metadata": {}
        },
        {
            "cell_type": "code",
            "execution_count": null,
            "source": [
                "# some imports\n",
                "import copy\n",
                "import numpy as np\n",
                "import pandas as pd"
            ],
            "outputs": [],
            "metadata": {}
        },
        {
            "cell_type": "markdown",
            "source": [
                "## Exercise 1: Can you copy dictionaries with the `=` operator?\n",
                "\n",
                "Let's have the content of the aquarium in a dictionary... with a bit of a new order."
            ],
            "metadata": {}
        },
        {
            "cell_type": "code",
            "execution_count": null,
            "source": [
                "aquarium_dict = {\n",
                "    'fishes': ['big fish', 'small fish', 'second big fish'],\n",
                "    'plants': None,\n",
                "    'black box': 1\n",
                "}"
            ],
            "outputs": [],
            "metadata": {}
        },
        {
            "cell_type": "markdown",
            "source": [
                "So what happens when you copy this dictionary with the `=` operator?\n",
                "\n",
                "1. check the id of `aquarium_dict` and your created copy!\n",
                "    --> will it be the same?\n",
                "\n",
                "Use code to confirm your opinion."
            ],
            "metadata": {}
        },
        {
            "cell_type": "code",
            "execution_count": null,
            "source": [
                "#your code here\n",
                "# aquarium_dict_copy = "
            ],
            "outputs": [],
            "metadata": {}
        },
        {
            "cell_type": "markdown",
            "source": [
                "<details><summary>\n",
                "Click here for the solution.\n",
                "    </summary>\n",
                "    1. id will be the same! \"=\" operator will not create a new object but will create a new variable that will refer to the original object. Everything that will be changed in \"aquarium_dict\" will be visible in the new variable as well\n",
                "\n",
                "    Python code:\n",
                "    aquarium_dict_copy = aquarium_dict\n",
                "\n",
                "    id(aquarium_dict_copy) == id(aquarium_dict)\n",
                "    \n",
                "</details>"
            ],
            "metadata": {}
        },
        {
            "cell_type": "markdown",
            "source": [
                "2. what will happen to `aquarium_dict` if you change the entry of `blackbox` in your copy to `\"Party!!!\"`? "
            ],
            "metadata": {}
        },
        {
            "cell_type": "code",
            "execution_count": null,
            "source": [
                "#your code here"
            ],
            "outputs": [],
            "metadata": {}
        },
        {
            "cell_type": "markdown",
            "source": [
                "<details><summary>\n",
                "Click here for the solution.\n",
                "    </summary>\n",
                "    2. \"blackbox\" will be changed to \"Party!!!\" as well.\n",
                "\n",
                "    Python code:\n",
                "    aquarium_dict_copy['black box'] = \"Party!!!\"\n",
                "\n",
                "    print(aquarium_dict_copy)\n",
                "    print(aquarium_dict)\n",
                "    \n",
                "</details>"
            ],
            "metadata": {}
        },
        {
            "cell_type": "markdown",
            "source": [
                "3. what will happen to `aquarium_dict_copy` if you append the `\"Rainbow fish\"` to the list of fishes in the original `aquarium_dict`?"
            ],
            "metadata": {}
        },
        {
            "cell_type": "code",
            "execution_count": null,
            "source": [
                "#your code here"
            ],
            "outputs": [],
            "metadata": {}
        },
        {
            "cell_type": "markdown",
            "source": [
                "<details><summary>\n",
                "Click here for the solution.\n",
                "    </summary>\n",
                "    3. \"Rainbow fish\" will added to fishes list for the copy as well.\n",
                "\n",
                "    Python code:\n",
                "    aquarium_dict['fishes'].append('Rainbow fish')\n",
                "\n",
                "    print(aquarium_dict_copy)\n",
                "    print(aquarium_dict)\n",
                "    \n",
                "</details>\n"
            ],
            "metadata": {}
        },
        {
            "cell_type": "markdown",
            "source": [
                "## Exercise 2: Can you copy dictionaries as shallow copies?\n",
                "\n",
                "We will start again with our typical aquarium_dict.\n",
                "Try out some different ways to create a shallow copy of it."
            ],
            "metadata": {}
        },
        {
            "cell_type": "code",
            "execution_count": null,
            "source": [
                "aquarium_dict = {\n",
                "    'fishes': ['big fish', 'small fish', 'second big fish'],\n",
                "    'plants': None,\n",
                "    'black box': 1\n",
                "}"
            ],
            "outputs": [],
            "metadata": {}
        },
        {
            "cell_type": "code",
            "execution_count": null,
            "source": [
                "# your code to create a shallow copy\n"
            ],
            "outputs": [],
            "metadata": {}
        },
        {
            "cell_type": "markdown",
            "source": [
                "<details><summary>\n",
                "Click here for the solution.\n",
                "    </summary>\n",
                "    What worked?\n",
                "\n",
                "- creating a new dictionary with the dict() method:\n",
                "    `dict(aquarium_dict)`\n",
                "\n",
                "- creating a new dictionary with the .copy() Method\n",
                "    `aquarium_dict.copy()`\n",
                "\n",
                "- creating a new dictionary with copy library\n",
                "    `copy.copy(aquarium_dict)`\n",
                "    \n",
                "What **didn't work**?\n",
                "- slicing (lists can be sliced, dictionaries not)\n",
                "    `aquarium_dict[:]`\n",
                "        \n",
                "- list method created a list of the dictionary-keys\n",
                "    `list(aquarium_dict)`\n",
                "    \n",
                "</details>"
            ],
            "metadata": {}
        },
        {
            "cell_type": "markdown",
            "source": [
                "Answer the three question from above!\n",
                "Use code to confirm your opinion.\n",
                "\n",
                "1. check the id of `aquarium_dict` and your created copy!\n",
                "    --> will it be the same?\n",
                "\n",
                "2. what will happen to `aquarium_dict` if you change the entry of `blackbox` in your copy to `\"Party!!!\"`? \n",
                "\n",
                "3. what will happen to `aquarium_dict_copy` if you append the `\"Rainbow fish\"` to the list of fishes in the original `aquarium_dict`?"
            ],
            "metadata": {}
        },
        {
            "cell_type": "code",
            "execution_count": null,
            "source": [
                "# your code here\n"
            ],
            "outputs": [],
            "metadata": {}
        },
        {
            "cell_type": "markdown",
            "source": [
                "<details><summary>\n",
                "Click here for the solution of all three questions.\n",
                "    </summary>\n",
                "1. No it's not the same! These are real copies: a new dict object was created:\n",
                "\n",
                "`aquarium_dict_shallow_copy = dict(aquarium_dict)`\n",
                "\n",
                "`id(aquarium_dict) == id(aquarium_dict_shallow_copy)`\n",
                "\n",
                "2.\"black box\" will be only changed in the copy.\n",
                "\n",
                "`aquarium_dict_shallow_copy['black box'] = \"Party!!!\"`\n",
                "\n",
                "`print(aquarium_dict_shallow_copy)`\n",
                "\n",
                "`print(aquarium_dict)`\n",
                "\n",
                "3.the value to the key \"fishes\" is a mutalbe list, which is then a nested object. Content of nested objects are shared between original and copies.\n",
                "\n",
                "`aquarium_dict['fishes'].append('Rainbow fish')`\n",
                "\n",
                "`print(aquarium_dict_shallow_copy)`\n",
                "\n",
                "`print(aquarium_dict)`\n",
                "\n",
                "</details>"
            ],
            "metadata": {}
        },
        {
            "cell_type": "markdown",
            "source": [
                "## Exercise 3: Can you copy dictionaries as deep copies?\n",
                "\n",
                "We will start again with our typical aquarium_dict.\n",
                "\n",
                "Create a deep copy of the dictionary.\n",
                "\n",
                "What will be the solution to the three questions?"
            ],
            "metadata": {}
        },
        {
            "cell_type": "code",
            "execution_count": null,
            "source": [
                "aquarium_dict = {\n",
                "    'fishes': ['big fish', 'small fish', 'second big fish'],\n",
                "    'plants': None,\n",
                "    'black box': 1\n",
                "}"
            ],
            "outputs": [],
            "metadata": {}
        },
        {
            "cell_type": "code",
            "execution_count": null,
            "source": [
                "# your code here\n"
            ],
            "outputs": [],
            "metadata": {}
        },
        {
            "cell_type": "markdown",
            "source": [
                "<details><summary>\n",
                "Click here for the solution of all three questions.\n",
                "    </summary>\n",
                "1. No it's not the same! These are real copies: a new dict object was created.\n",
                "\n",
                "`aquarium_dict_deep_copy = copy.deepcopy(aquarium_dict)`\n",
                "\n",
                "`id(aquarium_dict) == id(aquarium_dict_deep_copy)`\n",
                "\n",
                "2.\"black box\" will be only changed in the copy.\n",
                "\n",
                "`aquarium_dict_deep_copy['black box'] = \"Party!!!\"`\n",
                "\n",
                "`print(aquarium_dict_deep_copy)`\n",
                "\n",
                "`print(aquarium_dict)`\n",
                "\n",
                "3.the value to the key \"fishes\" is a mutalbe list, which is then a nested object. Content of nested objects are not shared between original and deep copies.\n",
                "\n",
                "`aquarium_dict['fishes'].append('Rainbow fish')`\n",
                "\n",
                "`print(aquarium_dict_deep_copy)`\n",
                "\n",
                "`print(aquarium_dict)`\n",
                "\n",
                "</details>"
            ],
            "metadata": {}
        },
        {
            "cell_type": "markdown",
            "source": [
                "## Extra\n",
                "\n",
                "Some of you might use Pandas DataFrames regularly.\n",
                "\n",
                "Of course you might also want to create some copies of DataFrames as well.\n",
                "\n",
                "We imported pandas already. That's why we can start directly with trying some ways to copy DataFrames...\n",
                "\n",
                "To make this concept a bit clearer. We start with our data as a **nested list**. Each nested list will be a row in our DataFrame.\n",
                "\n",
                "The column names will be explained when creating the DataFrame:\n",
                "The DataFrame is concered of the status if fish got food and if it is ill.\n",
                "\n"
            ],
            "metadata": {}
        },
        {
            "cell_type": "code",
            "execution_count": null,
            "source": [
                "list_of_lists = [['big fish', True, False], \n",
                "                 ['small fish', False, True], \n",
                "                 ['second big fish', False, True]]"
            ],
            "outputs": [],
            "metadata": {}
        },
        {
            "cell_type": "code",
            "execution_count": null,
            "source": [
                "aquarium_dataframe = pd.DataFrame(data= list_of_lists, columns = ['fishes', 'got_food', 'is_ill'])"
            ],
            "outputs": [],
            "metadata": {}
        },
        {
            "cell_type": "code",
            "execution_count": null,
            "source": [
                "aquarium_dataframe"
            ],
            "outputs": [],
            "metadata": {}
        },
        {
            "cell_type": "markdown",
            "source": [
                "Let's create a copy!\n",
                "**Attention!** This will use the [**Pandas Method .copy()**](https://pandas.pydata.org/pandas-docs/stable/reference/api/pandas.DataFrame.copy.html)\n",
                "\n",
                "By default the attribute `deep=True`. \n",
                "The documentation states:\n",
                "\n",
                "When deep=True (default), a new object will be created with a copy of the calling object’s data and indices. Modifications to the data or indices of the copy will not be reflected in the original object (see notes below).\n",
                "\n",
                "When deep=False, a new object will be created without copying the calling object’s data or index (only references to the data and index are copied). Any changes to the data of the original will be reflected in the shallow copy (and vice versa).\n",
                "\n",
                "Ok. We will stay true to this notebook and we will start with a \"shallow copy\"."
            ],
            "metadata": {}
        },
        {
            "cell_type": "code",
            "execution_count": null,
            "source": [
                "aquarium_dataframe_shallowcopy = aquarium_dataframe.copy(deep=False)"
            ],
            "outputs": [],
            "metadata": {}
        },
        {
            "cell_type": "markdown",
            "source": [
                "It's a new object:"
            ],
            "metadata": {}
        },
        {
            "cell_type": "code",
            "execution_count": null,
            "source": [
                "id(aquarium_dataframe) == id(aquarium_dataframe_shallowcopy)"
            ],
            "outputs": [],
            "metadata": {}
        },
        {
            "cell_type": "markdown",
            "source": [
                "But: Any changes to the data of the original will be reflected in the shallow copy (and vice versa)."
            ],
            "metadata": {}
        },
        {
            "cell_type": "code",
            "execution_count": null,
            "source": [
                "aquarium_dataframe_shallowcopy.at[0, 'fishes'] = 'dead fish'"
            ],
            "outputs": [],
            "metadata": {}
        },
        {
            "cell_type": "code",
            "execution_count": null,
            "source": [
                "aquarium_dataframe_shallowcopy"
            ],
            "outputs": [],
            "metadata": {}
        },
        {
            "cell_type": "code",
            "execution_count": null,
            "source": [
                "aquarium_dataframe"
            ],
            "outputs": [],
            "metadata": {}
        },
        {
            "cell_type": "markdown",
            "source": [
                "Ok. Now to the \"deep copy\"."
            ],
            "metadata": {}
        },
        {
            "cell_type": "code",
            "execution_count": null,
            "source": [
                "list_of_lists = [['big fish', True, False], \n",
                "                 [['small fish mama','small fish papa'], False, True], \n",
                "                 ['second big fish', False, True]]"
            ],
            "outputs": [],
            "metadata": {}
        },
        {
            "cell_type": "code",
            "execution_count": null,
            "source": [
                "aquarium_dataframe = pd.DataFrame(data= list_of_lists, columns = ['fishes', 'got_food', 'is_ill'])"
            ],
            "outputs": [],
            "metadata": {}
        },
        {
            "cell_type": "code",
            "execution_count": null,
            "source": [
                "# per default \"deep=True\"\n",
                "aquarium_dataframe_copy = aquarium_dataframe.copy()"
            ],
            "outputs": [],
            "metadata": {}
        },
        {
            "cell_type": "markdown",
            "source": [
                "It's a new object:"
            ],
            "metadata": {}
        },
        {
            "cell_type": "code",
            "execution_count": null,
            "source": [
                "id(aquarium_dataframe) == id(aquarium_dataframe_shallowcopy)"
            ],
            "outputs": [],
            "metadata": {}
        },
        {
            "cell_type": "markdown",
            "source": [
                "And: Modifications to the data or indices of the copy will not be reflected in the original object."
            ],
            "metadata": {}
        },
        {
            "cell_type": "code",
            "execution_count": null,
            "source": [
                "aquarium_dataframe_copy.at[0, 'fishes'] = 'dead fish'"
            ],
            "outputs": [],
            "metadata": {}
        },
        {
            "cell_type": "code",
            "execution_count": null,
            "source": [
                "aquarium_dataframe_copy"
            ],
            "outputs": [],
            "metadata": {}
        },
        {
            "cell_type": "code",
            "execution_count": null,
            "source": [
                "aquarium_dataframe"
            ],
            "outputs": [],
            "metadata": {}
        },
        {
            "cell_type": "markdown",
            "source": [
                "**But** how deep is this deep copy?"
            ],
            "metadata": {}
        },
        {
            "cell_type": "code",
            "execution_count": null,
            "source": [
                "aquarium_dataframe['fishes'][1][1] = 'small fish baby'"
            ],
            "outputs": [],
            "metadata": {}
        },
        {
            "cell_type": "code",
            "execution_count": null,
            "source": [
                "aquarium_dataframe\n"
            ],
            "outputs": [],
            "metadata": {}
        },
        {
            "cell_type": "code",
            "execution_count": null,
            "source": [
                "aquarium_dataframe_copy"
            ],
            "outputs": [],
            "metadata": {}
        },
        {
            "cell_type": "markdown",
            "source": [
                "Note that when copying an object containing Python objects, a deep copy will copy the data, but will not do so recursively. Updating a nested data object will be reflected in the deep copy."
            ],
            "metadata": {}
        },
        {
            "cell_type": "markdown",
            "source": [
                "This might not happen often, that you really have a list etc. as an object in your DataFrame. But if it does... there is again a way to create a real deep copy.\n",
                "\n",
                "To take a truly deep copy of a DataFrame containing a list(or other python objects), so that it will be independent – you can use one of the methods below.\n",
                "\n",
                "Create a new DataFrame with a deepcopy of the values in the DataFrame."
            ],
            "metadata": {}
        },
        {
            "cell_type": "code",
            "execution_count": null,
            "source": [
                "aquarium_dataframe_deep_copy = pd.DataFrame(columns = aquarium_dataframe.columns, data = copy.deepcopy(aquarium_dataframe.values))"
            ],
            "outputs": [],
            "metadata": {}
        },
        {
            "cell_type": "code",
            "execution_count": null,
            "source": [
                "aquarium_dataframe_deep_copy['fishes'][1][1] = 'small fish papa again'"
            ],
            "outputs": [],
            "metadata": {}
        },
        {
            "cell_type": "code",
            "execution_count": null,
            "source": [
                "aquarium_dataframe"
            ],
            "outputs": [],
            "metadata": {}
        },
        {
            "cell_type": "code",
            "execution_count": null,
            "source": [
                "aquarium_dataframe_deep_copy"
            ],
            "outputs": [],
            "metadata": {}
        },
        {
            "cell_type": "markdown",
            "source": [
                "Complicated! But now you have seen also all three ways to create copies of DataFrames.\n",
                "And it is always good to have an intuition what could have went wrong, when your DataFrames don't look like you expected them to look like."
            ],
            "metadata": {}
        }
    ],
    "metadata": {
        "orig_nbformat": 4,
        "language_info": {
            "name": "python",
            "version": "3.8.5",
            "mimetype": "text/x-python",
            "codemirror_mode": {
                "name": "ipython",
                "version": 3
            },
            "pygments_lexer": "ipython3",
            "nbconvert_exporter": "python",
            "file_extension": ".py"
        },
        "kernelspec": {
            "name": "python3",
            "display_name": "Python 3.8.5 64-bit ('.venv': venv)"
        },
        "interpreter": {
            "hash": "20670382bdd763826afecbaf496254aea9344a31cf0ebf49b772d3ebe854ad49"
        }
    },
    "nbformat": 4,
    "nbformat_minor": 2
}