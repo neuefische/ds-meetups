
{
 "cells": [
  {
   "cell_type": "markdown",
   "metadata": {},
   "source": [
    "## Reading csv with Pandas\n",
    "\n",
    "In this notebook, we will read a csv file using Pandas and perform some basic data analysis on it."
   ]
  },
  {
   "cell_type": "code",
   "execution_count": null,
   "metadata": {},
   "outputs": [],
   "source": [
    "# Importing necessary libraries\n",
    "import pandas as pd\n",
    "\n",
    "# Reading the csv file into a pandas dataframe\n",
    "matches_df = pd.read_csv('matches.csv')"
   ]
  },
  {
   "cell_type": "markdown",
   "metadata": {},
   "source": [
    "### Finding the list of unique cities where matches were played\n",
    "\n",
    "Let's find the list of unique cities where matches were played in the dataset."
   ]
  },
  {
   "cell_type": "code",
   "execution_count": null,
   "metadata": {},
   "outputs": [
    {
     "name": "stdout",
     "output_type": "stream",
     "text": [
      "List of unique cities where matches were played:\n",
      "['Hyderabad' 'Pune' 'Rajkot' 'Indore' 'Bangalore' 'Mumbai' 'Kolkata'\n",
      " 'Delhi' 'Chandigarh' 'Kanpur' 'Jaipur' 'Chennai' 'Cape Town'\n",
      " 'Port Elizabeth' 'Durban' 'Centurion' 'East London' 'Johannesburg'\n",
      " 'Kimberley' 'Bloemfontein' 'Ahmedabad' 'Cuttack' 'Nagpur' 'Dharamsala'\n",
      " 'Kochi' 'Visakhapatnam' 'Raipur' 'Ranchi' 'Abu Dhabi' 'Sharjah'\n",
      " 'Dubai' 'Rising Pune Supergiants' 'Kanpur Nagar']\n"
     ]
    }
   ],
   "source": [
    "unique_cities = matches_df['city'].unique()\n",
    "print('List of unique cities where matches were played:')\n",
    "print(unique_cities)"
   ]
  },
  {
   "cell_type": "markdown",
   "metadata": {},
   "source": [
    "### Finding the columns which contains null values if any\n",
    "\n",
    "Let's find the columns which contains null values if any in the dataset."
   ]
  },
  {
   "cell_type": "code",
   "execution_count": null,
   "metadata": {},
   "outputs": [
    {
     "name": "stdout",
     "output_type": "stream",
     "text": [
      "Columns containing null values:\n",
      "Index(['winner', 'player_of_match', 'umpire1', 'umpire2', 'umpire3'], dtype='object')\n"
     ]
    }
   ],
   "source": [
    "null_columns = matches_df.columns[matches_df.isnull().any()]\n",
    "print('Columns containing null values:')\n",
    "print(null_columns)"
   ]
  },
  {
   "cell_type": "markdown",
   "metadata": {},
   "source": [
    "### Listing down top 5 most played venues\n",
    "\n",
    "Let's list down the top 5 most played venues in the dataset."
   ]
  },
  {
   "cell_type": "code",
   "execution_count": null,
   "metadata": {},
   "outputs": [
    {
     "name": "stdout",
     "output_type": "stream",
     "text": [
      "Top 5 most played venues:\n",
      "Eden Gardens                                  77\n",
      "Wankhede Stadium                              73\n",
      "M Chinnaswamy Stadium                         73\n",
      "Feroz Shah Kotla                              67\n",
      "Rajiv Gandhi International Stadium, Uppal     56\n",
      "Name: venue, dtype: int64\n"
     ]
    }
   ],
   "source": [
    "top_venues = matches_df['venue'].value_counts().head()\n",
    "print('Top 5 most played venues:')\n",
    "print(top_venues)"
   ]
  },
  {
   "cell_type": "markdown",
   "metadata": {},
   "source": [
    "### Getting top 5 goal scorers of the tournament\n",
    "\n",
    "Let's get the top 5 goal scorers of the tournament from the dataset."
   ]
  },
  {
   "cell_type": "code",
   "execution_count": null,
   "metadata": {},
   "outputs": [
    {
     "name": "stdout",
     "output_type": "stream",
     "text": [
      "Top 5 goal scorers of the tournament:\n",
      "                 win_by_runs  win_by_wickets\n",
      "player_of_match                              \n",
      "CH Gayle                  0               1\n",
      "MEK Hussey                0               1\n",
      "SR Watson                 0               1\n",
      "SR Tendulkar              0               1\n",
      "YK Pathan                 0               1\n"
     ]
    }
   ],
   "source": [
    "player_scores = pd.DataFrame(matches_df, columns=['player_of_match', 'win_by_runs', 'win_by_wickets'])\n",
    "player_scores = player_scores.groupby('player_of_match').sum()\n",
    "player_scores = player_scores.sort_values(by=['win_by_runs', 'win_by_wickets'], ascending=False).head()\n",
    "print('Top 5 goal scorers of the tournament:')\n",
    "print(player_scores)"
   ]
  }
 ],
 "metadata": {
  "kernelspec": {
   "display_name": "Python 3 (ipykernel)",
   "language": "python",
   "name": "python3"
  },
  "language_info": {
   "codemirror_mode": {
    "name": "ipython",
    "version": 3
   },
   "file_extension": ".py",
   "mimetype": "text/x-python",
   "name": "python",
   "nbconvert_exporter": "python",
   "pygments_lexer": "ipython3",
   "version": "3.11.3"
  },
  "colab": {
   "name": "Python 3",
   "provenance": [],
   "collapsed_sections": [],
   "toc_visible": true,
   "include_colab_link": true
  }
 },
 "nbformat": 4,
 "nbformat_minor": 0
}
