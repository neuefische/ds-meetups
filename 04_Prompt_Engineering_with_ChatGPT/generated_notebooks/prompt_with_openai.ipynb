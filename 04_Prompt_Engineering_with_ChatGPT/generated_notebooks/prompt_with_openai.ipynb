{
 "cells": [
  {
   "cell_type": "markdown",
   "metadata": {},
   "source": [
    "## Introduction"
   ]
  },
  {
   "cell_type": "markdown",
   "metadata": {},
   "source": [
    "### Your task is to\n",
    " - Read the csv file into a pandas dataframe.\n",
    " - Find the list of unique cities where matches were played\n",
    " - Find the columns which contains null values if any ?\n",
    " - List down top 5 most played venues\n",
    " - Get top 5 goal scorers of the tournament\n"
   ]
  },
  {
   "cell_type": "code",
   "metadata": {},
   "execution_count": null,
   "outputs": [],
   "source": [
    "#importing necessary libraries\n",
    "import pandas as pd\n",
    "\n",
    "#reading the csv file into a pandas dataframe\n",
    "df = pd.read_csv('matches.csv')\n",
    "\n",
    "#finding the list of unique cities where matches were played\n",
    "unique_cities = df['city'].unique()\n",
    "print('List of unique cities where matches were played:')\n",
    "print(unique_cities)\n",
    "\n",
    "#finding the columns which contains null values if any\n",
    "null_columns = df.columns[df.isnull().any()]\n",
    "print('Columns which contains null values:')\n",
    "print(null_columns)\n",
    "\n",
    "#listing down top 5 most played venues\n",
    "top_venues = df['venue'].value_counts().head()\n",
    "print('Top 5 most played venues:')\n",
    "print(top_venues)\n",
    "\n",
    "#getting top 5 goal scorers of the tournament\n",
    "top_scorers = df.groupby('player_of_match')['player_of_match'].count().nlargest(5)\n",
    "print('Top 5 goal scorers of the tournament:')\n",
    "print(top_scorers)"
   ]
  }
 ],
 "metadata": {
  "kernelspec": {
   "display_name": "Python 3 (ipykernel)",
   "language": "python",
   "name": "python3"
  },
  "language_info": {
   "codemirror_mode": {
    "name": "ipython",
    "version": 3
   },
   "file_extension": ".py",
   "mimetype": "text/x-python",
   "name": "python",
   "nbconvert_exporter": "python",
   "pygments_lexer": "ipython3",
   "version": "3.11.3"
  }
 },
 "nbformat": 4,
 "nbformat_minor": 2
}
