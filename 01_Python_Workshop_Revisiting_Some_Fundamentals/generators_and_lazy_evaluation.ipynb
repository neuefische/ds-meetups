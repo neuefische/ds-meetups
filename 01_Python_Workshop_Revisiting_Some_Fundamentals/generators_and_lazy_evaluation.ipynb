{
 "cells": [
  {
   "cell_type": "markdown",
   "metadata": {},
   "source": [
    "To open this notebook in Google Colab and start coding, click on the Colab icon below.\n",
    "\n",
    "<table style=\"border:2px solid orange\" align=\"left\">\n",
    "  <td style=\"border:2px solid orange \">\n",
    "    <a target=\"_blank\" href=\"https://colab.research.google.com/github/neuefische/ds-meetups/blob/main/01_Python_Workshop_Revisiting_Some_Fundamentals/generators_and_lazy_evaluation.ipynb\"><img src=\"https://www.tensorflow.org/images/colab_logo_32px.png\" />Run in Google Colab</a>\n",
    "  </td>\n",
    " </table>"
   ]
  },
  {
   "cell_type": "markdown",
   "metadata": {},
   "source": [
    "# Revisiting... Generators and lazy evaluation"
   ]
  },
  {
   "cell_type": "markdown",
   "metadata": {},
   "source": [
    "## Learning goals for this Notebook\n",
    "At the end of this notebook you should:\n",
    "- have a better understanding of generators and have seen several ways to use them\n",
    "- understund what lazy evaluation means and why it's an advantage \n",
    "- understand ther different syntaxes for creating generaters\n"
   ]
  },
  {
   "cell_type": "markdown",
   "metadata": {},
   "source": [
    "## How to use this\n",
    "This notebook is supposed to be *follow-along*. Feel free to change stuff and experiment as much as you want, though.\n",
    "Ideally, you should look at each cell and try to predict the result. Afterwards you can run it and see if you were right."
   ]
  },
  {
   "cell_type": "markdown",
   "metadata": {},
   "source": [
    "## Importing stuff\n",
    "We barely have to import anything here, this is just basic Python.\n",
    " We just define a few helper functions:"
   ]
  },
  {
   "cell_type": "code",
   "execution_count": null,
   "metadata": {},
   "outputs": [],
   "source": [
    "import numpy as np\n",
    "import timeit\n",
    "from datetime import datetime\n",
    "\n",
    "def n_say(s):\n",
    "    print(f\"Nico:    {s}\")\n",
    "def l_say(s):\n",
    "    print(f\"Larissa: {s}\")\n",
    "def p_say(s):\n",
    "    print(f\"Python:  {s}\")       \n",
    "    \n",
    "def is_prime(number):\n",
    "    \"\"\"Function to check if a number is prime. Not very sophisticated but working.\n",
    "\n",
    "    Args:\n",
    "        number (int): the number to check\n",
    "\n",
    "    Returns:\n",
    "        Bool: True when number is prime, False if not\n",
    "    \"\"\"\n",
    "    if number <2: return False\n",
    "    if number in [2,3,5,7]: return True\n",
    "    \n",
    "    for i in range(2,int(number**0.5)+1):\n",
    "        if number%i==0:\n",
    "            return False\n",
    "    return True    "
   ]
  },
  {
   "cell_type": "code",
   "execution_count": null,
   "metadata": {},
   "outputs": [],
   "source": [
    "n_say(\"Hi, I'm Nico. \")\n",
    "l_say(\"Hi, I'm Larissa.\")\n",
    "p_say(\"I'm the sole voice of reason here. Don't trust the others!\")\n",
    "\n",
    "n_say(f\"Speaking of reason: Did you know 2021 is{' ' if is_prime(2021) else ' not '}a prime number?\")\n"
   ]
  },
  {
   "cell_type": "markdown",
   "metadata": {},
   "source": [
    "## Introduction: what are Generators?"
   ]
  },
  {
   "cell_type": "markdown",
   "metadata": {},
   "source": [
    "Lets just assume, you suddenly find yourself in dire need of some prime numbers. Then\n",
    "1. There is a chance of about 99% you are currently doing a coding tutorial or a coding challenge.\n",
    "2. We can easily get those by using the prime function from above.\n",
    "\n",
    "So... lets use a list comprehension to generate a list full of prime numbers. And lets not be shy and directly get all primes up to 1,000,000 "
   ]
  },
  {
   "cell_type": "code",
   "execution_count": null,
   "metadata": {},
   "outputs": [],
   "source": [
    "start= datetime.now()\n",
    "prime_list=[i for i in range(1000000) if is_prime(i)]\n",
    "duration =round((datetime.now()-start).total_seconds(),2)\n",
    "\n",
    "p_say(f\"Done. result: ...{prime_list[-5:]}\")\n",
    "p_say(f\"Computation took {duration} s\")"
   ]
  },
  {
   "cell_type": "markdown",
   "metadata": {},
   "source": [
    "That was easy! \n",
    "\n",
    "But instead of just stopping, you listen to your pet python that whispers in your ear: \"just make a small change: Use round brackets () instead of square brackets []\"."
   ]
  },
  {
   "cell_type": "code",
   "execution_count": null,
   "metadata": {},
   "outputs": [],
   "source": [
    "start =datetime.now()\n",
    "prime_list_gen=(i for i in range(1000000) if is_prime(i))\n",
    "duration =round((datetime.now()-start).total_seconds(),2)\n",
    "\n",
    "p_say(f\"Done. result: {prime_list_gen}\")\n",
    "p_say(f\"Computation took {duration} s\")"
   ]
  },
  {
   "cell_type": "markdown",
   "metadata": {},
   "source": [
    "This is performed almost instantly. But why? What does it do now? \n",
    "\n",
    "**The expression is now no longer a list comprehension, but a generator instead!**\n",
    "\n",
    "-- Lets get down into that rabbithole. Thanks Python!\n"
   ]
  },
  {
   "cell_type": "markdown",
   "metadata": {},
   "source": [
    "## Comparing list comprehensions and generators"
   ]
  },
  {
   "cell_type": "markdown",
   "metadata": {},
   "source": [
    "\n",
    "**First the list comprehension**\n",
    "```python\n",
    "prime_list=[i for i in range(1000000) if is_prime(i)]\n",
    "````\n",
    "\n",
    "This tells python you want a list that contains all the primes in range(1000000). Python accepts the syntax **and** prepares the list. This is referred to as **eager** evaluation.\n",
    "\n",
    "On my machine this takes about 2.4 seconds. After this, the whole list is prepared and stored in memory.\n",
    "\n",
    "**Now the generator expression**\n",
    "```python\n",
    "prime_list_gen=(i for i in range(1000000) if is_prime(i))\n",
    "````\n",
    "\n",
    "This tells python you want a list that contains all the primes in range(1000000). Python accepts the syntax **and** .. thats it.\n",
    "\n",
    " On my machine this takes about 0.0000003 seconds. After this, no list is computed yet! \n",
    " \n",
    " Instead, python will only compute the results from the generator when you ask for that. This is what is called **lazy** evaluation.\n",
    " \n",
    "#### Retrieve items from the generator\n"
   ]
  },
  {
   "cell_type": "code",
   "execution_count": null,
   "metadata": {},
   "outputs": [],
   "source": [
    "#First lets setup the generator:\n",
    "prime_list_gen=(i for i in range(1000000) if is_prime(i))"
   ]
  },
  {
   "cell_type": "markdown",
   "metadata": {},
   "source": [
    "Lets get the first prime! For this we use the next() function. It takes any iterator and returns the next item.\n",
    "\n",
    "If you run the same cell again, you will get the next one, hence the functions name.\n"
   ]
  },
  {
   "cell_type": "code",
   "execution_count": null,
   "metadata": {},
   "outputs": [],
   "source": [
    "next(prime_list_gen) # run this cell ceveral times"
   ]
  },
  {
   "cell_type": "markdown",
   "metadata": {},
   "source": [
    "Let's get the first 10 primes only!"
   ]
  },
  {
   "cell_type": "code",
   "execution_count": null,
   "metadata": {},
   "outputs": [],
   "source": [
    "prime_list_first_10=[next(prime_list_gen) for i in range(10)] #subsequent calls of next within a list comprehension? easy!\n",
    "p_say(prime_list_first_10)"
   ]
  },
  {
   "cell_type": "markdown",
   "metadata": {},
   "source": [
    "Wait those are actually not the first ten primes(two is missing), they are the next ten! That is because we used the same generator, that we already used in the previous cell. Try this by running the cell again.\n",
    "\n"
   ]
  },
  {
   "cell_type": "markdown",
   "metadata": {},
   "source": [
    "Now let's get all the other numbers:\n"
   ]
  },
  {
   "cell_type": "code",
   "execution_count": null,
   "metadata": {},
   "outputs": [],
   "source": [
    "prime_list=[prime for prime in prime_list_gen]\n",
    "p_say(prime_list[:5])\n",
    "p_say(prime_list[-5:])"
   ]
  },
  {
   "cell_type": "markdown",
   "metadata": {},
   "source": [
    "\n",
    "If you try to run this again now:\n",
    "```python\n",
    "next(prime_list_gen) \n",
    "```\n",
    "\n",
    "it will return an error, because the generator is already spent. You can only iterate over a generator once."
   ]
  },
  {
   "cell_type": "markdown",
   "metadata": {},
   "source": [
    "## Execution count and timing\n",
    "Now let's use the list comprehension and generator to get 10 primes each to see how efficient both approaches are, if you don't need all numbers. We do this by sneaking in a counting function: _cntr() as it always returns True, the expression _cntr()&_is_prime(i) is not changed. But both functions are called with each iteration. \n",
    "\n",
    "#### Execution count and timing: list comprehension"
   ]
  },
  {
   "cell_type": "code",
   "execution_count": null,
   "metadata": {},
   "outputs": [],
   "source": [
    "# Let's count the actual calls too\n",
    "count=0\n",
    "def _cntr():\n",
    "    global count\n",
    "    count += 1\n",
    "    return True\n",
    "\n",
    "start =datetime.now()\n",
    "\n",
    "prime_list=[i for i in range(1000000) if _cntr()&is_prime(i)]\n",
    "prime_list_first_10=prime_list[:10]\n",
    "\n",
    "duration =round((datetime.now()-start).total_seconds(),2)\n",
    "    \n",
    "p_say(f\"Done. result: \\n\\t {prime_list_first_10}\")\n",
    "p_say(f\"Computation took {duration} s\")\n",
    "p_say(f\"{count} calls to is_prime()\")"
   ]
  },
  {
   "cell_type": "markdown",
   "metadata": {},
   "source": [
    "#### Execution count and timing: generator expression"
   ]
  },
  {
   "cell_type": "code",
   "execution_count": null,
   "metadata": {},
   "outputs": [],
   "source": [
    "count=0\n",
    "start =datetime.now()\n",
    "\n",
    "prime_list_gen=(i for i in range(1000000) if _cntr()&is_prime(i))\n",
    "prime_list_first_10=[next(prime_list_gen) for i in range(10)] \n",
    "\n",
    "duration =round((datetime.now()-start).total_seconds(),2)\n",
    "\n",
    "p_say(f\"Done. result: \\n\\t {prime_list_first_10}\")\n",
    "p_say(f\"Computation took {duration} s\")\n",
    "p_say(f\"{count} calls to is_prime()\")"
   ]
  },
  {
   "cell_type": "markdown",
   "metadata": {},
   "source": [
    "So this is quite a bit difference!"
   ]
  },
  {
   "cell_type": "markdown",
   "metadata": {},
   "source": [
    "And, now use the generator to get them all"
   ]
  },
  {
   "cell_type": "code",
   "execution_count": null,
   "metadata": {},
   "outputs": [],
   "source": [
    "#First lets get all the primes by using the generator:\n",
    "count=0\n",
    "start =datetime.now()\n",
    "prime_list_gen=(i for i in range(1000000) if _cntr()&is_prime(i))\n",
    "prime_list=[i for i in prime_list_gen]\n",
    "duration =round((datetime.now()-start).total_seconds(),2)\n",
    "\n",
    "\n",
    "p_say(f\"{len(prime_list)} primes found. The last five are :{prime_list[-5:]}\")\n",
    "p_say(f\"Computation took {duration} s\")\n",
    "p_say(f\"{count} calls to is_prime()\")\n",
    "\n",
    "#timing this leads (on my machine) again to about 2.4s so we don't loose any time by doing this, great.\n",
    "#But the advantage comes in most prominent, if you don't actually need all elements from the list\n"
   ]
  },
  {
   "cell_type": "markdown",
   "metadata": {},
   "source": [
    "### Generators - syntax alternatives\n",
    "There are two main ways to define a generator. The fist follows the syntax of the list comprehensions, but uses parenthesis () instead of squared brackets. Thats what we used in the previous example:\n",
    "\n",
    "**List Comprehension syntax**\n",
    "\n",
    "*List comprehension*\n",
    "```python\n",
    "newlist = [expression for item in iterable if condition]\n",
    "```\n",
    "*Generator*\n",
    "```python\n",
    "generator = (expression for item in iterable if condition)\n",
    "```\n",
    "The second follows the syntax of function definitions, but instead of return, we use yield\n",
    "\n",
    "**Function definition syntax**\n",
    "\n",
    "*function*\n",
    "```python\n",
    "def complicatedFunction():\n",
    "    #Do some complicated stuff here\n",
    "    return something\n",
    "```\n",
    "\n",
    "*Generator*\n",
    "```python\n",
    "def complicatedGenerator():\n",
    "    #Do some complicated stuff here\n",
    "    yield something\n",
    "```\n",
    "\n",
    "\"yield\" is different in that return ends the function (so no expression inside the function after return is evaluated), and yield is more like a pause (so at the next next() call, evaluation starts at the line after the pass)\n",
    "\n",
    "\n",
    "A speciality of generators is, that they can only be iterated thorugh one time. Once, an (or all) element is visited, its basically spent. "
   ]
  },
  {
   "cell_type": "code",
   "execution_count": null,
   "metadata": {},
   "outputs": [],
   "source": [
    "#and for an easy example:\n",
    "\n",
    "def easy_generator():\n",
    "    for i in range(5):\n",
    "        yield i       \n",
    "\n",
    "p_say([i for i in easy_generator()])"
   ]
  },
  {
   "cell_type": "markdown",
   "metadata": {},
   "source": [
    "## Example 1: Prime Sextuples"
   ]
  },
  {
   "cell_type": "markdown",
   "metadata": {},
   "source": [
    "Now let's facilitate generators to do something useful!\n",
    "\n",
    "Let's look again at prime numbers. If two primes are directly neigbours (i.e. the are only 2 apart) they are called primetwins. Examples for this is are (3,5) or (227,229).\n",
    "\n",
    "But twins are boring, let's jump straight to sextuples, why not? Six primes can't be direct neigbours, because every third odd number is divisible by three and, hence, not a prime. So we have to allow some more space between them.\n",
    "\n",
    "Our Prime sextuples should follow the form:\n",
    " (p, p+4, p+6, p+10, p+12, p+16) [see here](https://en.wikipedia.org/wiki/Prime_quadruplet)\n",
    "\n",
    "\n",
    "As we dont know how many primes we have to look through to find a sextuple (or several) we can make use of another great property of generators: they don't **have to** have an upper limit!\n",
    "\n",
    "But be careful! Whenever you write something like **\"while True:\"** make extra sure that you are doing it safely.\n"
   ]
  },
  {
   "cell_type": "code",
   "execution_count": null,
   "metadata": {},
   "outputs": [],
   "source": [
    "#First lets turn the \"is_prime()\" function from above into a generator\n",
    "\n",
    "def prime_generator():\n",
    "    yield 2 #manually yield 2 first, so that we can start with 3 and use an increment by 2\n",
    "    number=3\n",
    "    while True:\n",
    "        is_Prime=True    \n",
    "        for i in range(2,int(number**0.5)+1):\n",
    "            if number%i==0:\n",
    "                is_Prime=False\n",
    "                break\n",
    "        if is_Prime: yield number\n",
    "        number+=2\n",
    "        \n",
    "prime_gen=prime_generator()"
   ]
  },
  {
   "cell_type": "markdown",
   "metadata": {},
   "source": [
    "Actually, this is a good point to show off another nice lazyness feature: all(iterable). This function iterates through the iterable and checks if all values observed are \"True\". This is done lazily, so once something other than (True) is observed, all() stops executing and returns False (there is also any() that returns True once it finds a True value in the iterable).\n"
   ]
  },
  {
   "cell_type": "code",
   "execution_count": null,
   "metadata": {},
   "outputs": [],
   "source": [
    "def prime_generator2():\n",
    "    yield 2 #manually yield 2 first, so that we can start with 3 and use an increment by 2\n",
    "    number=3\n",
    "    while True:\n",
    "        if all((number % i != 0 for i in range(3, int(number**.5 ) + 1,2))):\n",
    "            yield number\n",
    "        number+=2\n",
    "prime_gen=prime_generator2()"
   ]
  },
  {
   "cell_type": "markdown",
   "metadata": {},
   "source": [
    "Here, we make use of a generator to test possible divisors in succession. If the checked number (i) is a divisor, the generator returns False. This terminates the calling all() function with False as well -> hence no computation is wasted.\n",
    "I guess it's up to you to decide which generator is easier to read."
   ]
  },
  {
   "cell_type": "code",
   "execution_count": null,
   "metadata": {},
   "outputs": [],
   "source": [
    "# Now lets see if it works\n",
    "for i in range(15):\n",
    "    print(next(prime_gen))"
   ]
  },
  {
   "cell_type": "markdown",
   "metadata": {},
   "source": [
    "Looking good!\n",
    "Next, we develop a generator for prime sextuplets by going through 6 primes at a time to see if they qualify:"
   ]
  },
  {
   "cell_type": "code",
   "execution_count": null,
   "metadata": {},
   "outputs": [],
   "source": [
    "def prime_sextuplets_generator():\n",
    "    prime_gen=prime_generator() #use the prime_generator from above, as we know, there is no upper limit to the primes generated by this\n",
    "    \n",
    "    # Use a generator to run next(prime_gen) six times -> you can directly unpack a generator into variables!\n",
    "    p1,p2,p3,p4,p5,p6 = (next(prime_gen) for i in range(6)) \n",
    "    \n",
    "    while True:\n",
    "        # See formula, we have a sixtuplet if the first and last are 16 apart\n",
    "        if(p6-p1)==16:                                   \n",
    "            yield (p1,p2,p3,p4,p5,p6)        \n",
    "        #shifting the primes one back and adding the next one\n",
    "        p1,p2,p3,p4,p5,p6 = p2,p3,p4,p5,p6,next(prime_gen)\n",
    "        "
   ]
  },
  {
   "cell_type": "markdown",
   "metadata": {},
   "source": [
    "Pretty neat and compact function I think! Python is a very nice language for this sort of task. Lets see if it works as expected:"
   ]
  },
  {
   "cell_type": "code",
   "execution_count": null,
   "metadata": {},
   "outputs": [],
   "source": [
    "prime_gen=prime_sextuplets_generator()\n",
    "start =datetime.now()\n",
    "\n",
    "for i in range(10):\n",
    "    p_say(next(prime_gen))\n",
    "    \n",
    "duration =round((datetime.now()-start).total_seconds(),2)\n",
    "p_say(f\"Computation took {duration} s\")"
   ]
  },
  {
   "cell_type": "markdown",
   "metadata": {},
   "source": [
    "Had we done the search based on a list instead of a generator, we would have needed to know how many primes to prepare to include those 10 prime sextuplets. Depending on the application this is very hard or impossible to know beforehand!"
   ]
  },
  {
   "cell_type": "markdown",
   "metadata": {},
   "source": [
    "## Example 2: Back to the calendar"
   ]
  },
  {
   "cell_type": "markdown",
   "metadata": {},
   "source": [
    "Another example! Remember the calendar from the List-Comprehensions notebook? The final steps in that where mostly to showcase the problems of trying to do everything within a list comprehension.\n",
    "\n",
    "So lets make use of the generator syntax, to actually turn this into usefull example!"
   ]
  },
  {
   "cell_type": "code",
   "execution_count": null,
   "metadata": {},
   "outputs": [],
   "source": [
    "def is_leap_year(yr): #Same function as earlier\n",
    "    if yr%4!=0:\n",
    "        return False\n",
    "    elif yr%100!=0:\n",
    "        return True\n",
    "    elif yr%400!=0:\n",
    "        return False\n",
    "    else:\n",
    "        return True"
   ]
  },
  {
   "cell_type": "markdown",
   "metadata": {},
   "source": [
    "Instead of the nested list comprehension and trying to compute all the days at once, we use much easier readible loops in our generator."
   ]
  },
  {
   "cell_type": "code",
   "execution_count": null,
   "metadata": {},
   "outputs": [],
   "source": [
    "days=[\"Thu\",\"Fri\",\"Sat\",\"Sun\",\"Mon\",\"Tue\",\"Wed\"]\n",
    "months={\"Jan\":31,\"Feb\":28,\"Mar\":31,\"Apr\":30,\"May\":31,\"Jun\":30,\"Jul\":31,\"Aug\":31,\"Sep\":30,\"Oct\":31,\"Nov\":30,\"Dec\":31}\n",
    "years={yr : is_leap_year(yr) for yr in range(1970,2022)}\n",
    "\n",
    "def gen_calendar():\n",
    "    i=0\n",
    "    for year,leap in years.items():\n",
    "        for month,max_days in months.items():\n",
    "            max_days_leap=max_days+1+(leap and (month==\"Feb\"))\n",
    "            for day in range(1,max_days_leap):\n",
    "                yield f\"{days[(i)%7]}, {day}th of {month} {year}\"\n",
    "                #unlike return in functions, yield won't terminate the loop here! hence, its fine to do the increment after yielding                 \n",
    "                i+=1\n",
    "                \n"
   ]
  },
  {
   "cell_type": "code",
   "execution_count": null,
   "metadata": {},
   "outputs": [],
   "source": [
    "fun_calendar=gen_calendar()\n",
    "p_say(f\"prepared the generater: {fun_calendar}\")\n",
    "\n",
    "fancy_cal=[s for s in fun_calendar]\n",
    "p_say(fancy_cal[-5:])"
   ]
  },
  {
   "cell_type": "markdown",
   "metadata": {},
   "source": [
    "Isn't that just much more readable? And again, if you don't need all the days, you just have to compute those you actually care for. Let's demonstrate this again by turning our fun calendar in a doomed calendar!\n",
    "\n"
   ]
  },
  {
   "cell_type": "code",
   "execution_count": null,
   "metadata": {},
   "outputs": [],
   "source": [
    "def gen_unlucky_days():\n",
    "    i=0\n",
    "    for year,leap in years.items():\n",
    "        for month,max_days in months.items():\n",
    "            max_days_leap=max_days+1+(leap and (month==\"Feb\"))\n",
    "            for day in range(1,max_days_leap):\n",
    "                if (day==13) & (days[(i)%7]==\"Fri\"): #Now we only return doomed days, i.e. Friday the 13th!\n",
    "                    yield f\"{days[(i)%7]}, {day}th of {month} {year}\"\n",
    "                i+=1\n",
    "                \n",
    "\n",
    "bad_luck_days=gen_unlucky_days()\n",
    "\n",
    "\n",
    "n_say(f\"Fun fact: did you know Black Sabbath debut album 'Black Sabbath' was released on the first doomed day since unix time {next(bad_luck_days)}?\")\n",
    "n_say(f\"Not-so-fun fact: did you know that friday the 13th is considerd unlucky because on friday 13th October 1307 most members of the Templar order were arrested and consequently imprisoned, tortured or murdered?\")"
   ]
  },
  {
   "cell_type": "markdown",
   "metadata": {},
   "source": [
    "To successfully end this notebook on a sad note, let's keep generating unlucky days for the rest of our time:"
   ]
  },
  {
   "cell_type": "code",
   "execution_count": null,
   "metadata": {},
   "outputs": [],
   "source": [
    " # Keep repeating for more days of doom and sorrow\n",
    "next(bad_luck_days)"
   ]
  }
 ],
 "metadata": {
  "interpreter": {
   "hash": "6426a29efc353468667913ba996e9210bb11ea362e1c6cc99ca53c5c24a75753"
  },
  "kernelspec": {
   "display_name": "Python 3.8.5 64-bit ('nf_time-series': conda)",
   "name": "python3"
  },
  "language_info": {
   "codemirror_mode": {
    "name": "ipython",
    "version": 3
   },
   "file_extension": ".py",
   "mimetype": "text/x-python",
   "name": "python",
   "nbconvert_exporter": "python",
   "pygments_lexer": "ipython3",
   "version": "3.8.5"
  }
 },
 "nbformat": 4,
 "nbformat_minor": 4
}
