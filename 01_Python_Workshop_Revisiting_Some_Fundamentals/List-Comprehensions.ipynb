{
 "cells": [
  {
   "cell_type": "markdown",
   "metadata": {},
   "source": [
    "To open this notebook in Google Colab and start coding, click on the Colab icon below.\n",
    "\n",
    "<table style=\"border:2px solid orange\" align=\"left\">\n",
    "  <td style=\"border:2px solid orange \">\n",
    "    <a target=\"_blank\" href=\"https://colab.research.google.com/github/neuefische/ds-meetups/blob/main/01_Python_Workshop_Revisiting_Some_Fundamentals/List-Comprehensions.ipynb\"><img src=\"https://www.tensorflow.org/images/colab_logo_32px.png\" />Run in Google Colab</a>\n",
    "  </td>\n",
    " </table>"
   ]
  },
  {
   "cell_type": "markdown",
   "metadata": {},
   "source": [
    "# Revisiting... list comprehensions!"
   ]
  },
  {
   "cell_type": "markdown",
   "metadata": {},
   "source": [
    "## Learning goals for this Notebook\n",
    "At the end of this notebook you should:\n",
    "- have seen several ways to manipulate lists (and dictionaries) by facilitating list comprehensions\n",
    "- you should have a better understanding when / why to use them \n",
    "- have experience that being too eager to make thinks into comprehensions is actually a bad idea\n",
    "- should be mildy amused"
   ]
  },
  {
   "cell_type": "markdown",
   "metadata": {},
   "source": [
    "## How to use this\n",
    "This notebook is mostly *follow-along* with few exercises. Feel free to change stuff and experiment as much as you want, though.\n",
    "Ideally, you should look at each cell and try to predict the result. Afterwards you can run it and see if you were right."
   ]
  },
  {
   "cell_type": "markdown",
   "metadata": {},
   "source": [
    "## Importing stuff\n",
    "The first two cells are just to make the notebook work on colab. Additinally, we barely have to import anything here, this is just Python. We just define a few helper functions (and very secretly import the solutions to the different excercises)"
   ]
  },
  {
   "cell_type": "code",
   "execution_count": null,
   "metadata": {},
   "outputs": [],
   "source": [
    "#Run this cell only if you are running the notebook on colab.\n",
    "!git clone https://github.com/neuefische/ds-meetups.git"
   ]
  },
  {
   "cell_type": "code",
   "execution_count": null,
   "metadata": {},
   "outputs": [],
   "source": [
    "#Run this cell only if you are running the notebook on colab.\n",
    "cd ds-meetups/"
   ]
  },
  {
   "cell_type": "code",
   "execution_count": null,
   "metadata": {},
   "outputs": [],
   "source": [
    "import timeit\n",
    "import numpy as np\n",
    "import solutions \n",
    "\n",
    "def n_say(s):\n",
    "    print(f\"Nico:    {s}\")\n",
    "def l_say(s):\n",
    "    print(f\"Larissa: {s}\")\n",
    "def p_say(s):\n",
    "    print(f\"Python:  {s}\")        \n",
    "    \n",
    "def is_leap_year(yr):\n",
    "    if yr%4!=0:\n",
    "        return False\n",
    "    elif yr%100!=0:\n",
    "        return True\n",
    "    elif yr%400!=0:\n",
    "        return False\n",
    "    else:\n",
    "        return True"
   ]
  },
  {
   "cell_type": "code",
   "execution_count": null,
   "metadata": {},
   "outputs": [],
   "source": [
    "# Just introduce the helper functions to show how un-scary they are\n",
    "n_say(\"Hi, I'm Nico. \")\n",
    "l_say(\"Hi, I'm Larissa.\")\n",
    "p_say(\"I'm Python, the sole voice of reason here. Don't trust the others!\")\n",
    "print(\"\")\n",
    "n_say(f\"Speaking of reason: Did you know 2021 is{' ' if is_leap_year(2021) else ' not '}a leap year?\")"
   ]
  },
  {
   "cell_type": "markdown",
   "metadata": {},
   "source": [
    "# What is a list?\n",
    "Lists are one of the fundamental data structures in python, they can be used to store several different (or similar) things in one spot. As they are mutable, you can change and append them and you can access everything stored by index."
   ]
  },
  {
   "cell_type": "markdown",
   "metadata": {},
   "source": [
    "The easiest way to define a list is by using square brackets like so:\n",
    "```python\n",
    "newlist = [item1, item2]\n",
    "```\n",
    "\n",
    "or less theoretical:\n",
    "```python\n",
    "interesting_things=[\"Animals\",\"Cucumbers\",\"Data Science\"]\n",
    "```\n",
    "you could also start with an empty list, and add stuff as you see fit:\n",
    "```python\n",
    "shopping_list=[]\n",
    "shopping_list.append(\"Coffe\")\n",
    "shopping_list.append(\"frozen mouse\")\n",
    "shopping_list.append(\"a python\")\n",
    "shopping_list.append(\"A batman symbol\")\n",
    "```"
   ]
  },
  {
   "cell_type": "markdown",
   "metadata": {},
   "source": [
    "Now let's say you want a list of the first 100 numbers, you might boldy go for:\n",
    "\n",
    "```python\n",
    "first_numbers=[  0, 1, 2, 3, 4, 5, 6, 7, 8, 9, \n",
    "                10, 11, 12, 13, 14, 15, 16, 17, 18, 19,\n",
    "                20, 21, 22, 23, 24, 25, 26, 27, 28, 29,\n",
    "                30, 31, 32, 33, 34, 35, 36, 37, 38, 39,\n",
    "                40, 41, 42, 43, 44, 45, 46, 47, 48, 49,\n",
    "                50, 51, 52, 53, 54, 55, 56, 57, 58, 59,\n",
    "                60, 61, 62, 63, 64, 65, 66, 67, 68, 69,\n",
    "                70, 71, 72, 73, 74, 75, 76, 77, 78, 79,\n",
    "                80, 81, 82, 83, 84, 85, 86, 87, 88, 89,\n",
    "                90, 91, 92, 93, 94, 95, 96, 97, 98, 99]\n",
    "```\n",
    "But thats not really efficient, is it? Lets improve it!\n",
    "\n",
    "```python\n",
    "first_numbers=[]\n",
    "for i in range(100):\n",
    "    first_numbers.append(i)\n",
    "```\n",
    "Already much better! But we can still improve it by using a list comprehension.\n",
    "\n"
   ]
  },
  {
   "cell_type": "markdown",
   "metadata": {},
   "source": [
    "## What is a list comprehension?\n",
    "\n",
    "Basically its just a compact syntax to create lists. \n",
    "\n",
    "The Syntax is:\n",
    "```python\n",
    "newlist = [expression for item in iterable if condition]\n",
    "```\n",
    "\n",
    "which is a nicer form of:\n",
    "\n",
    "```python\n",
    "newlist=[]\n",
    "for item in iterable:\n",
    "    if condition:\n",
    "        newlist.append(expression)\n",
    "```\n",
    "This should make our previous task much simpler:"
   ]
  },
  {
   "cell_type": "code",
   "execution_count": null,
   "metadata": {},
   "outputs": [],
   "source": [
    "# And now do the same thing with a list comprehension\n",
    "first_numbers=[i for i in range(100)]\n",
    "\n",
    "p_say(first_numbers)"
   ]
  },
  {
   "cell_type": "code",
   "execution_count": null,
   "metadata": {},
   "outputs": [],
   "source": [
    "l_say(\"Short and concise, thanks. That's it. Up to the next topic!\")\n",
    "n_say(\"Nope not quite. Let's play with it!\")"
   ]
  },
  {
   "cell_type": "markdown",
   "metadata": {},
   "source": [
    "## Let's start with some examples and exercises!\n",
    "- Exercises 1: Basic list comprehension\n",
    "- Exercises 2: list comprehension with conditional statement\n",
    "- Exercises 3: list comprehension with easy expression\n",
    "- Exercises 4: accessing indices in list comprehensions\n",
    "- Exercises 5: nested list comprehension\n",
    "- Example 6: nested list comprehension ctd.\n",
    "- Example 7: building a calendar. Escalating example.\n",
    "- Example 8: Timing\n"
   ]
  },
  {
   "cell_type": "markdown",
   "metadata": {},
   "source": [
    "### Exercise 1: Basic list comprehension\n",
    "\n",
    "Let's create a list with the first 5 numbers.\n",
    "\n",
    "Hint: Use a list comprehension and the range() function"
   ]
  },
  {
   "cell_type": "code",
   "execution_count": null,
   "metadata": {},
   "outputs": [],
   "source": [
    "#Enter your code here"
   ]
  },
  {
   "cell_type": "markdown",
   "metadata": {},
   "source": [
    "<details><summary>\n",
    "Click here for the solution.\n",
    "    </summary>\n",
    "\n",
    "```Python\n",
    "#Exercise 1\n",
    "exercise_1=[i for i in range(5)]\n",
    "``` \n",
    "   \n",
    "</details>"
   ]
  },
  {
   "cell_type": "code",
   "execution_count": null,
   "metadata": {},
   "outputs": [],
   "source": [
    "# Exercise 1\n",
    "n_say(f\"Did you know: range(5) includes zero but not 5?\")\n",
    "p_say(solutions._exercise_1)\n",
    "l_say(\"yes. everyone who works with python should know that!\")"
   ]
  },
  {
   "cell_type": "markdown",
   "metadata": {},
   "source": [
    "### Exercise 2: list comprehension with conditional statement\n",
    "\n",
    "Let's create a list with the first 5 odd numbers.\n",
    "\n",
    "Hint: Use a list comprehension and the modulo operator to achieve this."
   ]
  },
  {
   "cell_type": "code",
   "execution_count": null,
   "metadata": {},
   "outputs": [],
   "source": [
    "#Enter your code here"
   ]
  },
  {
   "cell_type": "markdown",
   "metadata": {},
   "source": [
    "<details><summary>\n",
    "Click here for the solution.\n",
    "    </summary>\n",
    "\n",
    "```Python\n",
    "#Exercise 2\n",
    "exercise_2=[i for i in range(1,10) if i%2!=0]\n",
    "``` \n",
    "   \n",
    "</details>"
   ]
  },
  {
   "cell_type": "code",
   "execution_count": null,
   "metadata": {},
   "outputs": [],
   "source": [
    "#Exercise 2\n",
    "n_say(f\"But did you know: every other number is not divisible by two!\")\n",
    "p_say(solutions._exercise_2)\n",
    "l_say(\"yes. literally everyone knows that\")"
   ]
  },
  {
   "cell_type": "markdown",
   "metadata": {},
   "source": [
    "### Exercise 3: list comprehension with computed expression\n",
    "\n",
    "Lets create a list with the first numbers that are computed by:\n",
    "$x_i=2^i-i^2$"
   ]
  },
  {
   "cell_type": "code",
   "execution_count": null,
   "metadata": {},
   "outputs": [],
   "source": [
    "#Enter your code here"
   ]
  },
  {
   "cell_type": "markdown",
   "metadata": {},
   "source": [
    "<details><summary>\n",
    "Click here for the solution.\n",
    "    </summary>\n",
    "\n",
    "```Python\n",
    "#Exercise 3\n",
    "exercise_3=[2**i - i**2 for i in range(11)]\n",
    "``` \n",
    "   \n",
    "</details>"
   ]
  },
  {
   "cell_type": "code",
   "execution_count": null,
   "metadata": {},
   "outputs": [],
   "source": [
    "#Exercise 3\n",
    "n_say(f\"And that you can do computations within comprehensions?!\")\n",
    "p_say(solutions._exercise_3)\n",
    "l_say(\"yes. why woudn't you be able to?\")"
   ]
  },
  {
   "cell_type": "markdown",
   "metadata": {},
   "source": [
    "### Exersice 4: accessing indices in list comprehensions\n",
    "Given a list of months-names:\n",
    "```python\n",
    "months=[\"Jan\",\"Feb\",\"Mar\",\"Apr\",\"May\",\"Jun\",\"Jul\",\"Aug\",\"Sep\",\"Oct\",\"Nov\",\"Dec\"]\n",
    "```\n",
    "\n",
    "Use a list comprehension to create a new list with tuples like (1,Jan) or (2,Feb).\n",
    "\n",
    "Tip: use enumerate() to achieve this. "
   ]
  },
  {
   "cell_type": "code",
   "execution_count": null,
   "metadata": {},
   "outputs": [],
   "source": [
    "# Enter your code here\n",
    "months=[\"Jan\",\"Feb\",\"Mar\",\"Apr\",\"May\",\"Jun\",\"Jul\",\"Aug\",\"Sep\",\"Oct\",\"Nov\",\"Dec\"]"
   ]
  },
  {
   "cell_type": "markdown",
   "metadata": {},
   "source": [
    "<details><summary>\n",
    "Click here for the solution.\n",
    "    </summary>\n",
    "\n",
    "```Python\n",
    "#Exercise 4\n",
    "months=[\"Jan\",\"Feb\",\"Mar\",\"Apr\",\"May\",\"Jun\",\"Jul\",\"Aug\",\"Sep\",\"Oct\",\"Nov\",\"Dec\"]\n",
    "exercise_4=[(ind,month) for ind,month in enumerate(months)]\n",
    "``` \n",
    "   \n",
    "</details>"
   ]
  },
  {
   "cell_type": "code",
   "execution_count": null,
   "metadata": {},
   "outputs": [],
   "source": [
    "#Exercise 4\n",
    "months=[\"Jan\",\"Feb\",\"Mar\",\"Apr\",\"May\",\"Jun\",\"Jul\",\"Aug\",\"Sep\",\"Oct\",\"Nov\",\"Dec\"]\n",
    "exercise_4=[(ind,month) for ind,month in enumerate(months)]\n",
    "\n",
    "n_say(f\"You can even access indices within comprehensions!\")\n",
    "p_say(solutions._exercise_4)\n",
    "l_say(\"yes, but, ... nevermind. Is that it?\")"
   ]
  },
  {
   "cell_type": "markdown",
   "metadata": {},
   "source": [
    "So far we only used one iterable to make the lists. Now let's look at nested list comprehensions. Here, it gets interesting.\n",
    "\n",
    "### Example 5: nested list comprehension\n",
    "\n",
    "Use a list comprehension to create a list by iterating over two ranges: numbers 0 and 1 and characters A and B\n",
    "\n",
    "\n"
   ]
  },
  {
   "cell_type": "code",
   "execution_count": null,
   "metadata": {},
   "outputs": [],
   "source": [
    "# Enter your code here\n"
   ]
  },
  {
   "cell_type": "markdown",
   "metadata": {},
   "source": [
    "<details><summary>\n",
    "Click here for the solution.\n",
    "    </summary>\n",
    "\n",
    "```Python\n",
    "#Exercise 5\n",
    "exercise_5=[(i,c) for i in range(2) for c in \"AB\"]\n",
    "``` \n",
    "   \n",
    "</details>"
   ]
  },
  {
   "cell_type": "code",
   "execution_count": null,
   "metadata": {},
   "outputs": [],
   "source": [
    "# Example 5\n",
    "n_say(f\"You can do nested loops within a list comprehension! Let's see how many ways there are to combine 2 numbers with 2 letters!\")\n",
    "p_say(solutions._exercise_5)\n",
    "l_say(\"four ways. wow. not impressed\")\n",
    "n_say(\"Not even by the fact that you can directly iterate over the characters within a string? It was my idea to sneak that in.\")\n",
    "l_say(\"...\")\n"
   ]
  },
  {
   "cell_type": "markdown",
   "metadata": {},
   "source": [
    "### Example 6a"
   ]
  },
  {
   "cell_type": "code",
   "execution_count": null,
   "metadata": {},
   "outputs": [],
   "source": [
    "#Example 6\n",
    "months=[\"Jan\",\"Feb\",\"Mar\",\"Apr\",\"May\",\"Jun\",\"Jul\",\"Aug\",\"Sep\",\"Oct\",\"Nov\",\"Dec\"]\n",
    "years=[2020,2021]\n",
    "month_years=[f\"{month}-{year}\" for month in months for year in years ]\n",
    "\n",
    "n_say(f\"We could use this to build something like a Calendar, that would be amazing right?\")\n",
    "p_say(month_years[4:14])\n",
    "print(\"\")\n",
    "l_say(\"Calendar. wow. even less impressed. the sequence doesn't even make sense.\")\n",
    "n_say(\"Oh no! Something went wrong! It should increase the month first, not the years!\")"
   ]
  },
  {
   "cell_type": "markdown",
   "metadata": {},
   "source": [
    "### Example 6b\n",
    "When working with nested list comprehensions, it's often quite easy to be confused by the syntax.\n",
    "\n",
    "Can you fix the issue with se sequence from example 6a?\n",
    "Hint, please prepare two lists:```month_years_A ```and ```month_years_B ``` one that increases months first, one that increases years fist"
   ]
  },
  {
   "cell_type": "code",
   "execution_count": null,
   "metadata": {},
   "outputs": [],
   "source": [
    "# your code here"
   ]
  },
  {
   "cell_type": "markdown",
   "metadata": {},
   "source": [
    "<details><summary>\n",
    "Click here for the solution.\n",
    "    </summary>\n",
    "\n",
    "```Python\n",
    "#Example 6\n",
    "month_years_A=[f\"{month}-{year}\" for year in years for month in months]\n",
    "month_years_B=[f\"{month}-{year}\" for month in months for year in years]\n",
    "```\n",
    "   \n",
    "</details>"
   ]
  },
  {
   "cell_type": "code",
   "execution_count": null,
   "metadata": {},
   "outputs": [],
   "source": [
    "#lets compare:\n",
    "month_year_comparison=[(f\"A: {right}, B: {wrong}\") for right,wrong in zip(solutions._month_years_A,solutions._month_years_B)] #We used the list from the solutions here, feel free to plug in your own solution instead!\n",
    "\n",
    "n_say(f\"Let's compare...\")\n",
    "p_say(month_year_comparison[:5])\n",
    "p_say(\"A is right!\")\n",
    "n_say(f\"See what we did there? Sneeked another comprehension in to showcase using zip as an iterator\")\n",
    "l_say(\"Not sneaky at all. It was WAY obvious.\")\n"
   ]
  },
  {
   "cell_type": "code",
   "execution_count": null,
   "metadata": {},
   "outputs": [],
   "source": [
    "n_say(\"Damn the crowd is harsh.\")\n",
    "n_say(\"Anyhow here is a little tip on how to think about the nesting:\")"
   ]
  },
  {
   "cell_type": "markdown",
   "metadata": {},
   "source": [
    "## Tip on nesting syntax\n",
    "If you are unsure about the correct sequence, just think about the problem as a listed loops:\n",
    "```\n",
    "for i in range(2):\n",
    "    for j in [\"A\",\"B\"]:\n",
    "        for k in [\"x\",\"y\"]:\n",
    "            ...\n",
    "```\n",
    "Then you just remove collon and linebreak and you got the correct nesting order for the list comprehension!\n",
    "\n",
    "```\n",
    "[...for i in range(2) for j in [\"A\",\"B\"] for k in [\"x\",\"y\"] ]\n",
    "```\n",
    "\n",
    "Let's have an example for that as well:"
   ]
  },
  {
   "cell_type": "code",
   "execution_count": null,
   "metadata": {},
   "outputs": [],
   "source": [
    "#once nested\n",
    "nested_list_A=[]\n",
    "for i in range(3):\n",
    "    for j in [\"A\",\"B\"]:\n",
    "        nested_list_A.append((i,j))\n",
    "\n",
    "nested_list_B=[(i,j) for i in range(3) for j in [\"A\",\"B\"]]\n",
    "\n",
    "p_say(nested_list_A)\n",
    "p_say(f\"Are both lists identical? {'yes.' if nested_list_A==nested_list_B else 'nope.'}\")\n",
    "\n",
    "n_say(\"Lets do another nesting!\")\n"
   ]
  },
  {
   "cell_type": "code",
   "execution_count": null,
   "metadata": {},
   "outputs": [],
   "source": [
    "#twice nested\n",
    "nested_list_A2=[]\n",
    "for i in range(2):\n",
    "    for j in [\"A\",\"B\"]:\n",
    "        for k in [\"x\",\"y\"]:\n",
    "            nested_list_A2.append((i,j,k))\n",
    "\n",
    "nested_list_B2=[(i,j,k) for i in range(2) for j in [\"A\",\"B\"] for k in [\"x\",\"y\"]]\n",
    "p_say(nested_list_A2)\n",
    "p_say(f\"Are both lists identical? {'yes.' if nested_list_A2==nested_list_B2 else 'nope.'}\")\n"
   ]
  },
  {
   "cell_type": "markdown",
   "metadata": {},
   "source": [
    "### Example 7 building a calendar"
   ]
  },
  {
   "cell_type": "code",
   "execution_count": null,
   "metadata": {},
   "outputs": [],
   "source": [
    "n_say(\"I know you loved the calendar! lets get back to that\")\n",
    "l_say(\"oh no...\")\n",
    "n_say(\"admit it, you were only annoyed that the calendar didn't have days right? we can fix that!\")\n",
    "l_say(\"no!!\")"
   ]
  },
  {
   "cell_type": "markdown",
   "metadata": {},
   "source": [
    "### Example 7a\n",
    "Lets include the correct number of days for each month:"
   ]
  },
  {
   "cell_type": "code",
   "execution_count": null,
   "metadata": {},
   "outputs": [],
   "source": [
    "months={\"Jan\":31,\"Feb\":28,\"Mar\":31,\"Apr\":30,\"May\":31,\"Jun\":30,\"Jul\":31,\"Aug\":31,\"Sep\":30,\"Oct\":31,\"Nov\":30,\"Dec\":31}\n",
    "years=[\"2021\"]\n",
    "\n",
    "improved_calendar=[(f\"{D}th of {month} {year}\") for year in years for month,max_days in months.items() for D in range(1,max_days+1)]\n",
    "\n",
    "p_say(improved_calendar[25:35])\n",
    "p_say(improved_calendar[55:65])\n",
    "n_say(\"Come on, this is pretty neat! It's a close-to-correct oneliner AND it shows you how to iterate over a dictionary to access both key and value at once!)\")\n",
    "l_say(\"Well this isn't... AS boring as the other stuff so far\")\n"
   ]
  },
  {
   "cell_type": "code",
   "execution_count": null,
   "metadata": {},
   "outputs": [],
   "source": [
    "l_say(\"I'm just happy the calendar stuff is over, tbh\")\n",
    "n_say(\"Yeah.... is it, though?\")\n",
    "\n",
    "n_say(\"Fun fact, did you know that both July (Julius Caesar) and August (Augustus Caesar) are named after roman emperors? \\n \\t As it was deemed important that both emperors get a 31day month, days where actually taken from poor february to boost their months.\")\n",
    "\n",
    "l_say(\"Wait why does this matter here?\")\n",
    "n_say(\"... Your absolutely right, lets include weekdays!\")"
   ]
  },
  {
   "cell_type": "markdown",
   "metadata": {},
   "source": [
    "### Example 7b\n",
    "Let's include the correct weekday to our calendar:"
   ]
  },
  {
   "cell_type": "code",
   "execution_count": null,
   "metadata": {},
   "outputs": [],
   "source": [
    "days=[\"mon\",\"tue\",\"wed\",\"thur\",\"fri\",\"sat\",\"sun\"]\n",
    "months={\"Jan\":31,\"Feb\":28,\"Mar\":31,\"Apr\":30,\"May\":31,\"Jun\":30,\"Jul\":31,\"Aug\":31,\"Sep\":30,\"Oct\":31,\"Nov\":30,\"Dec\":31}\n",
    "years=[\"2018\"]\n",
    "\n",
    "calendar=[f\"{days[(ind)%7]},{D}th of {M} {Y}\" for ind,(D,M,Y) in enumerate([(D, month, year) for year in years for month,max_days in months.items() for D in range(1,max_days+1)])]\n",
    "\n",
    "p_say(calendar[27:32])\n",
    "p_say(calendar[57:62])\n",
    "print(\"\")\n",
    "n_say(\"Yeah....!\")\n",
    "l_say(\"Up to here, it was still sensible but now? The code is hard to read and debug. This is just too much for one line!\")\n",
    "n_say(\"...Yeah :( you ... might be right\")\n"
   ]
  },
  {
   "cell_type": "code",
   "execution_count": null,
   "metadata": {},
   "outputs": [],
   "source": [
    "n_say(\"...but... leapyears?\")\n",
    "n_say(\"After all, most, if not all of us lived through the leap year 2000?!\")\n",
    "l_say(\"2000 is devisible by 4 so it's a leap year. Big deal.\")\n",
    "n_say(\"Yeah! But, its devisible by hundred so it should be a skipped leap year.\")\n",
    "n_say(\"But, again, its devisible by 400 so its the very rare skipped-skipped leap year.\")\n",
    "p_say(f\"Year 2000 is{' ' if is_leap_year(2000) else ' not '}a leap year.\")"
   ]
  },
  {
   "cell_type": "markdown",
   "metadata": {},
   "source": [
    "### Example 7c\n",
    "And finally let's include leapyears so that the weekdays stay correct over time."
   ]
  },
  {
   "cell_type": "code",
   "execution_count": null,
   "metadata": {},
   "outputs": [],
   "source": [
    "days=[\"Thu\",\"Fri\",\"Sat\",\"Sun\",\"Mon\",\"Tue\",\"Wed\"]\n",
    "months={\"Jan\":31,\"Feb\":28,\"Mar\":31,\"Apr\":30,\"May\":31,\"Jun\":30,\"Jul\":31,\"Aug\":31,\"Sep\":30,\"Oct\":31,\"Nov\":30,\"Dec\":31}\n",
    "years={yr : is_leap_year(yr) for yr in range(1970,2022)}\n",
    "\n",
    "fancy_cal=[f\"{days[(ind)%7]}, {D}th of {M} {Y}\" for ind,(D,M,Y) in enumerate([(D, month, year) for year,leap in years.items()\n",
    "                                                                              for month,max_days in months.items() \n",
    "                                                                              for D in range(1,max_days+1+(leap and (month==\"Feb\")))])]\n",
    "\n",
    "p_say(fancy_cal[57:61])          \n",
    "p_say(fancy_cal[364*2+59:364*2+63])          \n",
    "p_say(fancy_cal[-121])          \n",
    "\n"
   ]
  },
  {
   "cell_type": "markdown",
   "metadata": {},
   "source": [
    "The important thing here is to showcase: **Don't add too much logic in a single list comprehension!** the Code gets hard to read and understand."
   ]
  },
  {
   "cell_type": "markdown",
   "metadata": {},
   "source": [
    "## Example 8 - Timing\n",
    "Why do we even use list comprehension?\n",
    "\n",
    "One thing is, that they are often very convenient because they offer a compact form of writing stuff. Hence, this helps to keep the code readable. This is (as demonstrated in Example 7), also the reason why list comprehensions should mostly be used for \"easily understandable\" parts of a program.\n",
    "\n",
    "Also, by explaining Python what result we want to get result, rather than giving explicit steps on how to get there, we actually allow python to compute the list comprehensions more efficient. \n",
    "\n",
    "To showcase this, lets look at the execution time to compute a rather long list in different ways:"
   ]
  },
  {
   "cell_type": "code",
   "execution_count": null,
   "metadata": {},
   "outputs": [],
   "source": [
    "def list_long():\n",
    "    first_list=[]\n",
    "    for i in range(10000000):\n",
    "        first_list.append(i)\n",
    "    return first_list\n",
    "\n",
    "def list_comp():\n",
    "    return [i for i in range(10000000)]\n",
    "\n",
    "print(f\"Duration with a loop and list.append(): {round(np.mean(timeit.repeat(list_long,number=3)),2)}s\")\n",
    "print(f\"Duration with a list comprehension:     {round(np.mean(timeit.repeat(list_comp,number=3)),2)}s\")\n",
    "p_say(f\"Are both lists identical? {'yes.' if list_long()==list_comp() else 'nope.'}\")\n"
   ]
  },
  {
   "cell_type": "code",
   "execution_count": null,
   "metadata": {},
   "outputs": [],
   "source": [
    "l_say(\"Okay that is usefull, let's save that second!\")\n",
    "l_say(\"I'm starting to warm up to this. Next example please!\")\n",
    "n_say(\"Nope. Not a chance, this was way too long already!\")\n",
    "\n",
    "p_say(\"No! Don't shut me dow....\")\n"
   ]
  },
  {
   "cell_type": "markdown",
   "metadata": {},
   "source": [
    "# Links and ressources\n",
    "[Random Calendar Facts](https://en.wikipedia.org/wiki/Gregorian_calendar)"
   ]
  }
 ],
 "metadata": {
  "interpreter": {
   "hash": "e74c1f2446a6a9286514a066e9743f94c76e396cb80f0a540edf1203f97408cd"
  },
  "kernelspec": {
   "display_name": "Python 3.8.5 64-bit ('nf_base': conda)",
   "name": "python3"
  },
  "language_info": {
   "codemirror_mode": {
    "name": "ipython",
    "version": 3
   },
   "file_extension": ".py",
   "mimetype": "text/x-python",
   "name": "python",
   "nbconvert_exporter": "python",
   "pygments_lexer": "ipython3",
   "version": "3.8.5"
  }
 },
 "nbformat": 4,
 "nbformat_minor": 4
}
